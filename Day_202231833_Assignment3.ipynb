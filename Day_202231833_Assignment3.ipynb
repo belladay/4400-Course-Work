{
 "cells": [
  {
   "cell_type": "markdown",
   "id": "9d477a45-54d7-46b0-ab12-8a2bc65500d1",
   "metadata": {
    "jp-MarkdownHeadingCollapsed": true
   },
   "source": [
    "## Question 1"
   ]
  },
  {
   "cell_type": "code",
   "execution_count": 16,
   "id": "2db45244-6403-4622-916e-10d506fd65de",
   "metadata": {},
   "outputs": [],
   "source": [
    "class LinkedList:\n",
    "    \"\"\" Class for a Linked List \"\"\"\n",
    "\n",
    "    def __init__(self):\n",
    "        self.head = Node()\n",
    "        # initialize header\n",
    "\n",
    "    def insert_at_beginning(self, data):\n",
    "        # insert an element at the front of the linked list\n",
    "        new = Node(data)\n",
    "        new.next = self.head.next\n",
    "        self.head.next = new\n",
    "\n",
    "    def delete_from_beginning(self):\n",
    "        # remove an element from the front of the linked list\n",
    "        if self.head.next is None:\n",
    "            return None\n",
    "        \n",
    "        removed = self.head.next\n",
    "        self.head.next = removed.next\n",
    "        # return the removed data\n",
    "        return removed.data\n",
    "\n",
    "    def get_first_element(self):\n",
    "        if self.head.next is None:\n",
    "            return None # empty list\n",
    "        \n",
    "        return self.head.next.data\n",
    "\n",
    "    def is_empty(self):\n",
    "        return self.head.next is None\n",
    "\n",
    "class Node:\n",
    "    \"\"\" Class for a Node \"\"\"\n",
    "\n",
    "    def __init__(self, data = None):\n",
    "        self.data = data\n",
    "        self.next = None\n",
    "\n",
    "class Stack:\n",
    "\n",
    "    def __init__(self):\n",
    "        self.stack = LinkedList()\n",
    "\n",
    "    def push(self, data):\n",
    "        return self.stack.insert_at_beginning(data)\n",
    "\n",
    "    def pop(self):\n",
    "        return self.stack.delete_from_beginning()\n",
    "\n",
    "    def top(self):\n",
    "        return self.stack.get_first_element()\n",
    "\n",
    "    def isEmpty(self):\n",
    "        return self.stack.is_empty()"
   ]
  },
  {
   "cell_type": "code",
   "execution_count": 17,
   "id": "1198e783-27e6-47be-a093-32cb95887315",
   "metadata": {},
   "outputs": [
    {
     "name": "stdout",
     "output_type": "stream",
     "text": [
      "Is stack empty? True\n",
      "Top element: 30\n",
      "Is stack empty? False\n",
      "Popped element: 30\n",
      "Top element after pop: 20\n",
      "Popped element: 20\n",
      "Popped element: 10\n",
      "Is stack empty after all pops? True\n"
     ]
    }
   ],
   "source": [
    "stack = Stack()\n",
    "print(\"Is stack empty?\", stack.isEmpty())  # Output: True\n",
    "\n",
    "stack.push(10)\n",
    "stack.push(20)\n",
    "stack.push(30)\n",
    "\n",
    "print(\"Top element:\", stack.top())  # Output: 30\n",
    "print(\"Is stack empty?\", stack.isEmpty())  # Output: False\n",
    "\n",
    "print(\"Popped element:\", stack.pop())  # Output: 30\n",
    "print(\"Top element after pop:\", stack.top())  # Output: 20\n",
    "print(\"Popped element:\", stack.pop())  # Output: 20\n",
    "print(\"Popped element:\", stack.pop())  # Output: 10\n",
    "print(\"Is stack empty after all pops?\", stack.isEmpty())  # Output: True"
   ]
  },
  {
   "cell_type": "markdown",
   "id": "f11256b0-2de8-4674-bff4-aa907910a607",
   "metadata": {},
   "source": [
    "## Question 2"
   ]
  },
  {
   "cell_type": "code",
   "execution_count": 65,
   "id": "753925f5-d2f9-4d9e-92e7-128c8ad49cb6",
   "metadata": {},
   "outputs": [],
   "source": [
    "class DynamicArray:\n",
    "    \"\"\"\n",
    "    Class for a dyanamic array\n",
    "\n",
    "    • append(element): Adds an element to the end of the array.\n",
    "    • insert(index, element): Inserts an element at the specified index.\n",
    "    • remove(index): Removes the element at the specified index.\n",
    "    • resize(new capacity): Resizes the array to the new capacity.\n",
    "    \"\"\"\n",
    "\n",
    "    def __init__(self, _capacity = 1):\n",
    "        self.array = [None]*_capacity\n",
    "        self.capacity = _capacity\n",
    "        self.size = 0\n",
    "\n",
    "    def _resize(self):\n",
    "        # create a new array who's capacity is double\n",
    "        new_array = [None] * self.capacity * 2\n",
    "        # copy all of the elements of the old array into the new one\n",
    "        for i in range(self.size):\n",
    "            new_array[i] = (self.array)[i]\n",
    "        # once all elements are copied, redefine the array member\n",
    "        self.array = new_array\n",
    "        # redefine the capacity of the array\n",
    "        self.capacity = self.capacity * 2\n",
    "    \n",
    "    def append(self, element):\n",
    "        # resize the array if the \n",
    "        if self.size == self.capacity:\n",
    "            self._resize()\n",
    "        self.array[self.size] = element\n",
    "        self.size += 1\n",
    "\n",
    "    def insert(self, index, element):\n",
    "        if index > self.size:\n",
    "            print(\"error: index out of range\")\n",
    "        else:\n",
    "            if self.size == self.capacity:\n",
    "                self._resize()\n",
    "            for i in range(self.size, index, -1):\n",
    "                # shift all elements including the element at the index one to the right\n",
    "                self.array[i] = self.array[i-1]\n",
    "            self.array[index] = element\n",
    "            self.size += 1\n",
    "\n",
    "    def remove(self, index):\n",
    "        if index > self.size:\n",
    "            print(\"error: index out of range\")\n",
    "        else:\n",
    "            self.array[index] == [None]\n",
    "            for i in range(index, self.size):\n",
    "                self.array[i] = self.array[i+1]\n",
    "            self.size -= 1"
   ]
  },
  {
   "cell_type": "code",
   "execution_count": 66,
   "id": "d78388c3-9733-41c8-9b75-b2002807b628",
   "metadata": {},
   "outputs": [
    {
     "name": "stdout",
     "output_type": "stream",
     "text": [
      "[1]\n",
      "[1, 2]\n",
      "[1, 2, 3, None]\n",
      "[2, 3, None, None]\n",
      "[2, 4, 3, None]\n",
      "error: index out of range\n",
      "[2, 4, 3, None]\n",
      "error: index out of range\n"
     ]
    }
   ],
   "source": [
    "myArray = DynamicArray(1)\n",
    "myArray.append(1)\n",
    "print(myArray.array)\n",
    "myArray.append(2)\n",
    "print(myArray.array)\n",
    "myArray.append(3)\n",
    "print(myArray.array)\n",
    "myArray.remove(0)\n",
    "print(myArray.array)\n",
    "myArray.insert(1, 4)\n",
    "print(myArray.array)\n",
    "myArray.insert(4, 5)\n",
    "print(myArray.array)\n",
    "myArray.remove(4)\n"
   ]
  },
  {
   "cell_type": "markdown",
   "id": "2f5c64f9-7076-41d5-81b9-3e0cfac40983",
   "metadata": {},
   "source": [
    "Code outputs as expected"
   ]
  }
 ],
 "metadata": {
  "kernelspec": {
   "display_name": "Python 3 (ipykernel)",
   "language": "python",
   "name": "python3"
  },
  "language_info": {
   "codemirror_mode": {
    "name": "ipython",
    "version": 3
   },
   "file_extension": ".py",
   "mimetype": "text/x-python",
   "name": "python",
   "nbconvert_exporter": "python",
   "pygments_lexer": "ipython3",
   "version": "3.8.10"
  }
 },
 "nbformat": 4,
 "nbformat_minor": 5
}
